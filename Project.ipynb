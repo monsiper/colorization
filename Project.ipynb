{
 "cells": [
  {
   "cell_type": "code",
   "execution_count": 1,
   "metadata": {
    "collapsed": false
   },
   "outputs": [
    {
     "name": "stdout",
     "output_type": "stream",
     "text": [
      "(581, 65536)\n",
      "Current training data size is 581\n",
      "Current validation data size is 581\n",
      "Current test data size is 581\n",
      "... building the model\n"
     ]
    },
    {
     "name": "stderr",
     "output_type": "stream",
     "text": [
      "WARNING (theano.configdefaults): install mkl with `conda install mkl-service`: No module named mkl\n"
     ]
    },
    {
     "name": "stdout",
     "output_type": "stream",
     "text": [
      "... training\n",
      "('training @ iter = ', 0)\n",
      "epoch 1, minibatch 1/116, validation error 1318.760485 %\n",
      "Optimization complete.\n"
     ]
    }
   ],
   "source": [
    "from project_test_mehmet import colorization\n",
    "result = colorization(learning_rate=0.0001, n_epochs=1,\n",
    "                    verbose=True,batch_size=5,ds_rate=1,dim_in=256/1)"
   ]
  },
  {
   "cell_type": "code",
   "execution_count": 7,
   "metadata": {
    "collapsed": false
   },
   "outputs": [
    {
     "data": {
      "text/plain": [
       "(5, 2, 256, 256)"
      ]
     },
     "execution_count": 7,
     "metadata": {},
     "output_type": "execute_result"
    }
   ],
   "source": [
    "orig_y = result[1].reshape(5,2,256,256)\n",
    "orig_y.shape"
   ]
  },
  {
   "cell_type": "code",
   "execution_count": null,
   "metadata": {
    "collapsed": false
   },
   "outputs": [],
   "source": [
    "import numpy as np\n",
    "import theano.tensor as T\n",
    "T.config.floatX = 'float32'\n",
    "dataPoints = np.random.random((64+64, 256 * 256)).astype(T.config.floatX)\n",
    "#float32 data type requires 4 bytes\n",
    "sizeinGBs = 64 * 256 * 256 * 4 / 1024. / 1024 / 1024 \n",
    "print \"Data will need %2f GBs of free memory\" % sizeinGBs"
   ]
  },
  {
   "cell_type": "code",
   "execution_count": 1,
   "metadata": {
    "collapsed": false
   },
   "outputs": [
    {
     "name": "stdout",
     "output_type": "stream",
     "text": [
      "(581, 65536)\n",
      "(581, 65536)\n"
     ]
    }
   ],
   "source": [
    "import numpy as np\n",
    "from project_test_mehmet import load_data\n",
    "from project_util import encode_ab_to_Q \n",
    "\n",
    "data_set = load_data('data', False)\n",
    "data_a_chan = data_set[1][219][:64*64]\n",
    "data_b_chan = data_set[1][219][64*64:2*64*64]\n",
    "distances, indices, wts = encode_ab_to_Q(data_a_chan, data_b_chan)"
   ]
  },
  {
   "cell_type": "code",
   "execution_count": 19,
   "metadata": {
    "collapsed": false
   },
   "outputs": [
    {
     "name": "stdout",
     "output_type": "stream",
     "text": [
      "(5,) (5,)\n",
      "[ 0.          0.          0.          0.          0.          0.          0.\n",
      "  0.          0.          0.          0.          0.          0.          0.\n",
      "  0.          0.          0.          0.          0.          0.          0.\n",
      "  0.          0.          0.          0.          0.          0.          0.\n",
      "  0.          0.          0.          0.          0.          0.          0.\n",
      "  0.          0.          0.          0.          0.          0.          0.\n",
      "  0.          0.          0.          0.          0.          0.          0.\n",
      "  0.          0.          0.          0.          0.          0.          0.\n",
      "  0.          0.          0.          0.          0.          0.          0.\n",
      "  0.          0.          0.          0.          0.          0.          0.\n",
      "  0.          0.          0.          0.          0.          0.          0.\n",
      "  0.          0.          0.          0.          0.          0.          0.\n",
      "  0.          0.          0.          0.          0.          0.          0.\n",
      "  0.          0.          0.          0.          0.          0.          0.\n",
      "  0.          0.          0.          0.          0.08443392  0.          0.\n",
      "  0.          0.          0.          0.          0.          0.          0.\n",
      "  0.          0.          0.          0.          0.          0.          0.\n",
      "  0.05297898  0.63541836  0.13958477  0.          0.          0.          0.\n",
      "  0.          0.          0.          0.          0.          0.          0.\n",
      "  0.          0.          0.          0.          0.          0.\n",
      "  0.08758397  0.          0.          0.          0.          0.          0.\n",
      "  0.          0.          0.          0.          0.          0.          0.\n",
      "  0.          0.          0.          0.          0.          0.          0.\n",
      "  0.          0.          0.          0.          0.          0.          0.\n",
      "  0.          0.          0.          0.          0.          0.          0.\n",
      "  0.          0.          0.          0.          0.          0.          0.\n",
      "  0.          0.          0.          0.          0.          0.          0.\n",
      "  0.          0.          0.          0.          0.          0.          0.\n",
      "  0.          0.          0.          0.          0.          0.          0.\n",
      "  0.          0.          0.          0.          0.          0.          0.\n",
      "  0.          0.          0.          0.          0.          0.          0.\n",
      "  0.          0.          0.          0.          0.          0.          0.\n",
      "  0.          0.          0.          0.          0.          0.          0.\n",
      "  0.          0.          0.          0.          0.          0.          0.\n",
      "  0.          0.          0.          0.          0.          0.          0.\n",
      "  0.          0.          0.          0.          0.          0.          0.\n",
      "  0.          0.          0.          0.          0.          0.          0.\n",
      "  0.          0.          0.          0.          0.          0.          0.\n",
      "  0.          0.          0.          0.          0.          0.          0.\n",
      "  0.          0.          0.          0.          0.          0.          0.\n",
      "  0.          0.          0.          0.          0.          0.          0.\n",
      "  0.          0.          0.          0.          0.          0.          0.\n",
      "  0.          0.          0.          0.          0.          0.          0.\n",
      "  0.          0.          0.          0.          0.          0.          0.\n",
      "  0.          0.          0.          0.          0.          0.        ]\n"
     ]
    }
   ],
   "source": [
    "img_enc = np.zeros((64*64, 313 ))\n",
    "x_ind =np.arange(0,4096,dtype='int')[:,np.newaxis]\n",
    "img_enc[x_ind, indices] = wts\n",
    "img_flt = img_enc.flatten()\n",
    "print img_flt.reshape(4096,313)[0]"
   ]
  },
  {
   "cell_type": "code",
   "execution_count": null,
   "metadata": {
    "collapsed": false
   },
   "outputs": [],
   "source": [
    "import urllib2\n",
    "from bs4 import BeautifulSoup\n",
    "import os, sys\n",
    "from PIL import Image\n",
    "from resizeimage import resizeimage\n",
    "import numpy as np\n",
    "from matplotlib import pyplot as plt\n",
    "from skimage import color, io\n",
    "import theano\n",
    "%matplotlib inline\n",
    "\n",
    "data_l = ((result[0][3]).reshape(1,256,256)).transpose(1,2,0)\n",
    "data_ab_y = ((result[1][3]).reshape(2,256,256)).transpose(1,2,0)\n",
    "data_ab_nn = ((result[2][3]).reshape(2,256,256)).transpose(1,2,0)\n",
    "img_construct = np.concatenate((data_l.astype(np.float64),data_ab_nn.astype(np.float64)), axis=2)\n",
    "plt.imshow(color.lab2rgb(img_construct))\n",
    "plt.show()"
   ]
  },
  {
   "cell_type": "code",
   "execution_count": null,
   "metadata": {
    "collapsed": false
   },
   "outputs": [],
   "source": [
    "rng = numpy.random.RandomState(23455)\n",
    "    \n",
    "new_path = './data/'\n",
    "if not os.path.isdir(new_path):\n",
    "    download_images(dir_name, 3)\n",
    "    prepare_image_sets(dir_name, batch_size=200)\n",
    "#train_set, valid_set, test_set = \n",
    "train_set = load_data(dir_name,theano_shared=False)"
   ]
  }
 ],
 "metadata": {
  "kernelspec": {
   "display_name": "Python 2",
   "language": "python",
   "name": "python2"
  },
  "language_info": {
   "codemirror_mode": {
    "name": "ipython",
    "version": 2.0
   },
   "file_extension": ".py",
   "mimetype": "text/x-python",
   "name": "python",
   "nbconvert_exporter": "python",
   "pygments_lexer": "ipython2",
   "version": "2.7.12"
  }
 },
 "nbformat": 4,
 "nbformat_minor": 0
}